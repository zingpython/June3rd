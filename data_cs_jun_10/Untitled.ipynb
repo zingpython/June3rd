{
 "cells": [
  {
   "cell_type": "code",
   "execution_count": 2,
   "metadata": {
    "collapsed": false
   },
   "outputs": [],
   "source": [
    "import pandas as pd \n",
    "import pandas_datareader.data as web\n",
    "import matplotlib.pyplot as plt \n",
    "from matplotlib.finance import candlestick_ohlc\n",
    "import matplotlib.dates as mdates"
   ]
  },
  {
   "cell_type": "code",
   "execution_count": 3,
   "metadata": {
    "collapsed": true
   },
   "outputs": [],
   "source": [
    "import datetime\n",
    "from datetime import date"
   ]
  },
  {
   "cell_type": "code",
   "execution_count": 4,
   "metadata": {
    "collapsed": true
   },
   "outputs": [],
   "source": [
    "start = date(2016,1,1)\n",
    "end = date(2017,1,20)"
   ]
  },
  {
   "cell_type": "code",
   "execution_count": 6,
   "metadata": {
    "collapsed": false
   },
   "outputs": [],
   "source": [
    "stock_price = web.DataReader(\"TWTR\", \"google\", start, end)"
   ]
  },
  {
   "cell_type": "code",
   "execution_count": 7,
   "metadata": {
    "collapsed": false
   },
   "outputs": [
    {
     "data": {
      "text/html": [
       "<div>\n",
       "<table border=\"1\" class=\"dataframe\">\n",
       "  <thead>\n",
       "    <tr style=\"text-align: right;\">\n",
       "      <th></th>\n",
       "      <th>open</th>\n",
       "      <th>high</th>\n",
       "      <th>low</th>\n",
       "      <th>close</th>\n",
       "    </tr>\n",
       "    <tr>\n",
       "      <th>Date</th>\n",
       "      <th></th>\n",
       "      <th></th>\n",
       "      <th></th>\n",
       "      <th></th>\n",
       "    </tr>\n",
       "  </thead>\n",
       "  <tbody>\n",
       "    <tr>\n",
       "      <th>2016-12-09</th>\n",
       "      <td>19.65</td>\n",
       "      <td>19.65</td>\n",
       "      <td>18.63</td>\n",
       "      <td>18.63</td>\n",
       "    </tr>\n",
       "    <tr>\n",
       "      <th>2016-12-19</th>\n",
       "      <td>18.24</td>\n",
       "      <td>18.24</td>\n",
       "      <td>16.39</td>\n",
       "      <td>16.39</td>\n",
       "    </tr>\n",
       "    <tr>\n",
       "      <th>2016-12-29</th>\n",
       "      <td>16.39</td>\n",
       "      <td>17.17</td>\n",
       "      <td>16.30</td>\n",
       "      <td>17.17</td>\n",
       "    </tr>\n",
       "    <tr>\n",
       "      <th>2017-01-08</th>\n",
       "      <td>17.50</td>\n",
       "      <td>17.50</td>\n",
       "      <td>16.96</td>\n",
       "      <td>16.96</td>\n",
       "    </tr>\n",
       "    <tr>\n",
       "      <th>2017-01-18</th>\n",
       "      <td>17.11</td>\n",
       "      <td>17.11</td>\n",
       "      <td>16.58</td>\n",
       "      <td>16.58</td>\n",
       "    </tr>\n",
       "  </tbody>\n",
       "</table>\n",
       "</div>"
      ],
      "text/plain": [
       "             open   high    low  close\n",
       "Date                                  \n",
       "2016-12-09  19.65  19.65  18.63  18.63\n",
       "2016-12-19  18.24  18.24  16.39  16.39\n",
       "2016-12-29  16.39  17.17  16.30  17.17\n",
       "2017-01-08  17.50  17.50  16.96  16.96\n",
       "2017-01-18  17.11  17.11  16.58  16.58"
      ]
     },
     "execution_count": 7,
     "metadata": {},
     "output_type": "execute_result"
    }
   ],
   "source": [
    "ten_days = stock_price['Close'].resample('10D').ohlc()\n",
    "stock_volume = stock_price['Volume'].resample('10D').sum()\n",
    "# stock_volume.tail()\n",
    "ten_days.tail()"
   ]
  },
  {
   "cell_type": "code",
   "execution_count": 8,
   "metadata": {
    "collapsed": true
   },
   "outputs": [],
   "source": [
    "ten_days.reset_index(inplace=True)"
   ]
  },
  {
   "cell_type": "code",
   "execution_count": 9,
   "metadata": {
    "collapsed": false
   },
   "outputs": [
    {
     "data": {
      "text/html": [
       "<div>\n",
       "<table border=\"1\" class=\"dataframe\">\n",
       "  <thead>\n",
       "    <tr style=\"text-align: right;\">\n",
       "      <th></th>\n",
       "      <th>Date</th>\n",
       "      <th>open</th>\n",
       "      <th>high</th>\n",
       "      <th>low</th>\n",
       "      <th>close</th>\n",
       "    </tr>\n",
       "  </thead>\n",
       "  <tbody>\n",
       "    <tr>\n",
       "      <th>34</th>\n",
       "      <td>2016-12-09</td>\n",
       "      <td>19.65</td>\n",
       "      <td>19.65</td>\n",
       "      <td>18.63</td>\n",
       "      <td>18.63</td>\n",
       "    </tr>\n",
       "    <tr>\n",
       "      <th>35</th>\n",
       "      <td>2016-12-19</td>\n",
       "      <td>18.24</td>\n",
       "      <td>18.24</td>\n",
       "      <td>16.39</td>\n",
       "      <td>16.39</td>\n",
       "    </tr>\n",
       "    <tr>\n",
       "      <th>36</th>\n",
       "      <td>2016-12-29</td>\n",
       "      <td>16.39</td>\n",
       "      <td>17.17</td>\n",
       "      <td>16.30</td>\n",
       "      <td>17.17</td>\n",
       "    </tr>\n",
       "    <tr>\n",
       "      <th>37</th>\n",
       "      <td>2017-01-08</td>\n",
       "      <td>17.50</td>\n",
       "      <td>17.50</td>\n",
       "      <td>16.96</td>\n",
       "      <td>16.96</td>\n",
       "    </tr>\n",
       "    <tr>\n",
       "      <th>38</th>\n",
       "      <td>2017-01-18</td>\n",
       "      <td>17.11</td>\n",
       "      <td>17.11</td>\n",
       "      <td>16.58</td>\n",
       "      <td>16.58</td>\n",
       "    </tr>\n",
       "  </tbody>\n",
       "</table>\n",
       "</div>"
      ],
      "text/plain": [
       "         Date   open   high    low  close\n",
       "34 2016-12-09  19.65  19.65  18.63  18.63\n",
       "35 2016-12-19  18.24  18.24  16.39  16.39\n",
       "36 2016-12-29  16.39  17.17  16.30  17.17\n",
       "37 2017-01-08  17.50  17.50  16.96  16.96\n",
       "38 2017-01-18  17.11  17.11  16.58  16.58"
      ]
     },
     "execution_count": 9,
     "metadata": {},
     "output_type": "execute_result"
    }
   ],
   "source": [
    "ten_days.tail()"
   ]
  },
  {
   "cell_type": "code",
   "execution_count": 10,
   "metadata": {
    "collapsed": true
   },
   "outputs": [],
   "source": [
    "ten_days[\"Date\"] = ten_days[\"Date\"].map(mdates.date2num)"
   ]
  },
  {
   "cell_type": "code",
   "execution_count": 11,
   "metadata": {
    "collapsed": false
   },
   "outputs": [
    {
     "data": {
      "text/plain": [
       "34    736307.0\n",
       "35    736317.0\n",
       "36    736327.0\n",
       "37    736337.0\n",
       "38    736347.0\n",
       "Name: Date, dtype: float64"
      ]
     },
     "execution_count": 11,
     "metadata": {},
     "output_type": "execute_result"
    }
   ],
   "source": [
    "ten_days[\"Date\"].tail()"
   ]
  },
  {
   "cell_type": "code",
   "execution_count": 12,
   "metadata": {
    "collapsed": true
   },
   "outputs": [],
   "source": [
    "# creating two figures\n",
    "price_fig = plt.subplot2grid((6,1),(0,0), rowspan=5, colspan=1)\n",
    "volume_fig = plt.subplot2grid((6,1),(5,0), rowspan=1, colspan=1, sharex=price_fig)"
   ]
  },
  {
   "cell_type": "code",
   "execution_count": 13,
   "metadata": {
    "collapsed": false
   },
   "outputs": [
    {
     "data": {
      "image/png": "[encoded data removed]",
      "text/plain": [
       "<matplotlib.figure.Figure at 0x1102740f0>"
      ]
     },
     "metadata": {},
     "output_type": "display_data"
    }
   ],
   "source": [
    "# plotting data\n",
    "price_fig.xaxis_date()\n",
    "candlestick_ohlc(price_fig, ten_days.values, width=5)\n",
    "volume_fig.fill_between(stock_volume.index.map(mdates.date2num), stock_volume.values, 0)\n",
    "\n",
    "plt.show()"
   ]
  },
  {
   "cell_type": "code",
   "execution_count": null,
   "metadata": {
    "collapsed": true
   },
   "outputs": [],
   "source": []
  }
 ],
 "metadata": {
  "anaconda-cloud": {},
  "kernelspec": {
   "display_name": "Python [default]",
   "language": "python",
   "name": "python3"
  },
  "language_info": {
   "codemirror_mode": {
    "name": "ipython",
    "version": 3
   },
   "file_extension": ".py",
   "mimetype": "text/x-python",
   "name": "python",
   "nbconvert_exporter": "python",
   "pygments_lexer": "ipython3",
   "version": "3.5.2"
  }
 },
 "nbformat": 4,
 "nbformat_minor": 1
}
